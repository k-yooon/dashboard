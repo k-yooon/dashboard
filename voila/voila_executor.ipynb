!voila \
--Voila.ip=192.168.10.204 --port=8866 \
--Voila.root_dir=/home/tide/jupyter/notebooks/dashboard/voila \
--MappingKernelManager.cull_interval=180 \
--MappingKernelManager.cull_idle_timeout=1800 \
--no-browser \
--theme=dark \
--strip_sources=True

# MappingKernelManager.cull_connected=Ture 브라우저 open 시에도, timeout에 따라 kenel 종료
